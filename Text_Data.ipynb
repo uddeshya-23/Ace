{
  "nbformat": 4,
  "nbformat_minor": 0,
  "metadata": {
    "colab": {
      "provenance": [],
      "authorship_tag": "ABX9TyOeVRh1IJNccDNUVnZHcwSf",
      "include_colab_link": true
    },
    "kernelspec": {
      "name": "python3",
      "display_name": "Python 3"
    },
    "language_info": {
      "name": "python"
    }
  },
  "cells": [
    {
      "cell_type": "markdown",
      "metadata": {
        "id": "view-in-github",
        "colab_type": "text"
      },
      "source": [
        "<a href=\"https://colab.research.google.com/github/uddeshya-23/Ace/blob/main/Text_Data.ipynb\" target=\"_parent\"><img src=\"https://colab.research.google.com/assets/colab-badge.svg\" alt=\"Open In Colab\"/></a>"
      ]
    },
    {
      "cell_type": "code",
      "execution_count": 2,
      "metadata": {
        "id": "6oN4a8y6mnBu"
      },
      "outputs": [],
      "source": [
        "import warnings\n",
        "warnings.filterwarnings('ignore')\n",
        "\n",
        "import numpy as np\n",
        "import pandas as pd\n",
        "\n",
        "import re"
      ]
    },
    {
      "cell_type": "code",
      "source": [
        "def find_pattern(patterns,text):\n",
        "  if re.search(patterns,text):\n",
        "    return re.search(patterns,text)\n",
        "\n",
        "  else:\n",
        "    return 'Not Found!'"
      ],
      "metadata": {
        "id": "vwDq2MuXCORr"
      },
      "execution_count": 3,
      "outputs": []
    },
    {
      "cell_type": "markdown",
      "source": [
        "Start of STRING \"^\"  end end of string is $"
      ],
      "metadata": {
        "id": "yZrmApBkTM8B"
      }
    },
    {
      "cell_type": "code",
      "source": [
        "print(find_pattern(\"^U\",\"Uddeshya\"))\n",
        "\n",
        "print(find_pattern(\"a$\",\"Uddeshya\"))"
      ],
      "metadata": {
        "colab": {
          "base_uri": "https://localhost:8080/"
        },
        "id": "2Jpx4qrACOUS",
        "outputId": "81172c46-2cf8-45ec-889c-6b92ee8c8f6d"
      },
      "execution_count": 6,
      "outputs": [
        {
          "output_type": "stream",
          "name": "stdout",
          "text": [
            "<re.Match object; span=(0, 1), match='U'>\n",
            "<re.Match object; span=(7, 8), match='a'>\n"
          ]
        }
      ]
    },
    {
      "cell_type": "markdown",
      "source": [
        "Quantifiers \"*\" Zero or, More"
      ],
      "metadata": {
        "id": "liI5bmTBTsf5"
      }
    },
    {
      "cell_type": "code",
      "source": [
        "print(find_pattern(\"Ud*\",\"Uddeshya\"))\n",
        "\n",
        "print(find_pattern(\"Udd*\",\"Uddeshya\"))\n",
        "\n",
        "print(find_pattern(\"Udde*\",\"Uddeshya\"))\n",
        "\n",
        "print(find_pattern(\"dde*\",\"Uddeshya\"))\n",
        "\n",
        "\n",
        "print(find_pattern(\"udde*\",\"Uddeshya\")) ## Case sensitive\n",
        "\n",
        "print(find_pattern(\"ya*\",\"Uddeshya\"))"
      ],
      "metadata": {
        "colab": {
          "base_uri": "https://localhost:8080/"
        },
        "id": "UWUT6r1lCOWw",
        "outputId": "c91259eb-2a87-4ad6-a1b1-664a5e4567e4"
      },
      "execution_count": 12,
      "outputs": [
        {
          "output_type": "stream",
          "name": "stdout",
          "text": [
            "<re.Match object; span=(0, 3), match='Udd'>\n",
            "<re.Match object; span=(0, 3), match='Udd'>\n",
            "<re.Match object; span=(0, 4), match='Udde'>\n",
            "<re.Match object; span=(1, 4), match='dde'>\n",
            "Not Found!\n",
            "<re.Match object; span=(6, 8), match='ya'>\n"
          ]
        }
      ]
    },
    {
      "cell_type": "markdown",
      "source": [
        "\"?\" Zero or, One Time"
      ],
      "metadata": {
        "id": "L3z3JuZXXxSS"
      }
    },
    {
      "cell_type": "code",
      "source": [
        "print(find_pattern(\"ya?\",\"Uddeshya\"))\n",
        "print(find_pattern(\"a?\",\"Uddeshya\"))\n",
        "\n",
        "print(find_pattern(\"ddes?\",\"Uddeshya\"))"
      ],
      "metadata": {
        "colab": {
          "base_uri": "https://localhost:8080/"
        },
        "id": "pci9TSIiCOZJ",
        "outputId": "4554d739-cb40-4182-99c6-855060d47382"
      },
      "execution_count": 18,
      "outputs": [
        {
          "output_type": "stream",
          "name": "stdout",
          "text": [
            "<re.Match object; span=(6, 8), match='ya'>\n",
            "<re.Match object; span=(0, 0), match=''>\n",
            "<re.Match object; span=(1, 5), match='ddes'>\n"
          ]
        }
      ]
    },
    {
      "cell_type": "markdown",
      "source": [
        "\"+\" for One or, More"
      ],
      "metadata": {
        "id": "AigLLHTqYTuc"
      }
    },
    {
      "cell_type": "code",
      "source": [],
      "metadata": {
        "id": "QA990fLqCOcc"
      },
      "execution_count": null,
      "outputs": []
    },
    {
      "cell_type": "markdown",
      "source": [
        "{n} for Exact Numbers"
      ],
      "metadata": {
        "id": "o2R1oWqtaHe8"
      }
    },
    {
      "cell_type": "code",
      "source": [
        "print(find_pattern(\"Ud{2}\",\"Uddeshya\"))\n",
        "\n",
        "\n",
        "##n,m is inclusive, matxhes if character is present\n",
        "print(find_pattern(\"Ud{1,2}\",\"Uddeshya\"))\n",
        "\n",
        "print(find_pattern(\"Ud{1}\",\"Uddeshya\"))\n",
        "\n",
        "print(find_pattern(\"add{0,}\",\"adrtyu\"))"
      ],
      "metadata": {
        "colab": {
          "base_uri": "https://localhost:8080/"
        },
        "id": "a4vx4FNxCOfw",
        "outputId": "db0267dc-be4f-4dc4-cde7-2be76fd39c73"
      },
      "execution_count": 27,
      "outputs": [
        {
          "output_type": "stream",
          "name": "stdout",
          "text": [
            "<re.Match object; span=(0, 3), match='Udd'>\n",
            "<re.Match object; span=(0, 3), match='Udd'>\n",
            "<re.Match object; span=(0, 2), match='Ud'>\n",
            "<re.Match object; span=(0, 2), match='ad'>\n"
          ]
        }
      ]
    },
    {
      "cell_type": "markdown",
      "source": [
        "CHARACTER SET![image.png](data:image/png;base64,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)"
      ],
      "metadata": {
        "id": "W6c-yaWpe8xN"
      }
    },
    {
      "cell_type": "code",
      "source": [
        "print(find_pattern(\"[a-f]\",\"ghijkl\"))\n",
        "\n",
        "print(find_pattern(\"[a-g]\",\"ghijkl\"))\n",
        "\n",
        "print(find_pattern(\"[a-g][A-Z]\",\"Ughijkl\"))"
      ],
      "metadata": {
        "colab": {
          "base_uri": "https://localhost:8080/"
        },
        "id": "MjXQsmEQCOm9",
        "outputId": "defd2bc9-56a5-48f6-f8fd-e68123dfb244"
      },
      "execution_count": 30,
      "outputs": [
        {
          "output_type": "stream",
          "name": "stdout",
          "text": [
            "Not Found!\n",
            "<re.Match object; span=(0, 1), match='g'>\n",
            "Not Found!\n"
          ]
        }
      ]
    },
    {
      "cell_type": "code",
      "source": [
        "print(find_pattern(\"^[6-9]{1}[0-9]{9}$\",\"1234567888\"))"
      ],
      "metadata": {
        "colab": {
          "base_uri": "https://localhost:8080/"
        },
        "id": "xMTkDtMFfddD",
        "outputId": "ff130d12-4125-48dd-a2d1-523c711f0aed"
      },
      "execution_count": 31,
      "outputs": [
        {
          "output_type": "stream",
          "name": "stdout",
          "text": [
            "Not Found!\n"
          ]
        }
      ]
    },
    {
      "cell_type": "markdown",
      "source": [
        "Text PROCESSING"
      ],
      "metadata": {
        "id": "o6EjWxHIhwQI"
      }
    },
    {
      "cell_type": "markdown",
      "source": [
        "Tokenisation"
      ],
      "metadata": {
        "id": "h-NbDdEph10f"
      }
    },
    {
      "cell_type": "code",
      "source": [
        "!pip install nltk"
      ],
      "metadata": {
        "colab": {
          "base_uri": "https://localhost:8080/"
        },
        "id": "PvBOanAxfdgM",
        "outputId": "5fccb4c9-a09b-46b4-f89f-e74311376ea5"
      },
      "execution_count": 32,
      "outputs": [
        {
          "output_type": "stream",
          "name": "stdout",
          "text": [
            "Requirement already satisfied: nltk in /usr/local/lib/python3.10/dist-packages (3.8.1)\n",
            "Requirement already satisfied: click in /usr/local/lib/python3.10/dist-packages (from nltk) (8.1.7)\n",
            "Requirement already satisfied: joblib in /usr/local/lib/python3.10/dist-packages (from nltk) (1.3.2)\n",
            "Requirement already satisfied: regex>=2021.8.3 in /usr/local/lib/python3.10/dist-packages (from nltk) (2023.6.3)\n",
            "Requirement already satisfied: tqdm in /usr/local/lib/python3.10/dist-packages (from nltk) (4.66.1)\n"
          ]
        }
      ]
    },
    {
      "cell_type": "code",
      "source": [
        "import nltk\n",
        "nltk.download('punkt') ##download model"
      ],
      "metadata": {
        "colab": {
          "base_uri": "https://localhost:8080/"
        },
        "id": "JXEezumlhu_r",
        "outputId": "2ecf3fe3-085b-4db1-97d7-f59d66596c7f"
      },
      "execution_count": 33,
      "outputs": [
        {
          "output_type": "stream",
          "name": "stderr",
          "text": [
            "[nltk_data] Downloading package punkt to /root/nltk_data...\n",
            "[nltk_data]   Unzipping tokenizers/punkt.zip.\n"
          ]
        },
        {
          "output_type": "execute_result",
          "data": {
            "text/plain": [
              "True"
            ]
          },
          "metadata": {},
          "execution_count": 33
        }
      ]
    },
    {
      "cell_type": "code",
      "source": [
        "from nltk.tokenize import word_tokenize\n",
        "\n",
        "document=\"My Name is Uddeshya.Kumar. My college is completed.\"\n",
        "words=word_tokenize(document)\n",
        "\n",
        "print(words)"
      ],
      "metadata": {
        "colab": {
          "base_uri": "https://localhost:8080/"
        },
        "id": "yKgeWiVzhvCN",
        "outputId": "33e6c38e-6b27-4ce5-e7cc-b91462591969"
      },
      "execution_count": 37,
      "outputs": [
        {
          "output_type": "stream",
          "name": "stdout",
          "text": [
            "['My', 'Name', 'is', 'Uddeshya.Kumar', '.', 'My', 'college', 'is', 'completed', '.']\n"
          ]
        }
      ]
    },
    {
      "cell_type": "code",
      "source": [
        "nltk.download('stopwords')\n",
        "\n",
        "from nltk.corpus import stopwords\n"
      ],
      "metadata": {
        "colab": {
          "base_uri": "https://localhost:8080/"
        },
        "id": "pY8qpuvohvE0",
        "outputId": "97607865-e16e-43d4-fc66-347c46cb2f25"
      },
      "execution_count": 42,
      "outputs": [
        {
          "output_type": "stream",
          "name": "stderr",
          "text": [
            "[nltk_data] Downloading package stopwords to /root/nltk_data...\n",
            "[nltk_data]   Package stopwords is already up-to-date!\n"
          ]
        }
      ]
    },
    {
      "cell_type": "code",
      "source": [
        "print(stopwords.words('english'))"
      ],
      "metadata": {
        "colab": {
          "base_uri": "https://localhost:8080/"
        },
        "id": "m-6V_DvKl_Pb",
        "outputId": "575a1377-8a70-4db8-86c7-eeb444f13a78"
      },
      "execution_count": 43,
      "outputs": [
        {
          "output_type": "stream",
          "name": "stdout",
          "text": [
            "['i', 'me', 'my', 'myself', 'we', 'our', 'ours', 'ourselves', 'you', \"you're\", \"you've\", \"you'll\", \"you'd\", 'your', 'yours', 'yourself', 'yourselves', 'he', 'him', 'his', 'himself', 'she', \"she's\", 'her', 'hers', 'herself', 'it', \"it's\", 'its', 'itself', 'they', 'them', 'their', 'theirs', 'themselves', 'what', 'which', 'who', 'whom', 'this', 'that', \"that'll\", 'these', 'those', 'am', 'is', 'are', 'was', 'were', 'be', 'been', 'being', 'have', 'has', 'had', 'having', 'do', 'does', 'did', 'doing', 'a', 'an', 'the', 'and', 'but', 'if', 'or', 'because', 'as', 'until', 'while', 'of', 'at', 'by', 'for', 'with', 'about', 'against', 'between', 'into', 'through', 'during', 'before', 'after', 'above', 'below', 'to', 'from', 'up', 'down', 'in', 'out', 'on', 'off', 'over', 'under', 'again', 'further', 'then', 'once', 'here', 'there', 'when', 'where', 'why', 'how', 'all', 'any', 'both', 'each', 'few', 'more', 'most', 'other', 'some', 'such', 'no', 'nor', 'not', 'only', 'own', 'same', 'so', 'than', 'too', 'very', 's', 't', 'can', 'will', 'just', 'don', \"don't\", 'should', \"should've\", 'now', 'd', 'll', 'm', 'o', 're', 've', 'y', 'ain', 'aren', \"aren't\", 'couldn', \"couldn't\", 'didn', \"didn't\", 'doesn', \"doesn't\", 'hadn', \"hadn't\", 'hasn', \"hasn't\", 'haven', \"haven't\", 'isn', \"isn't\", 'ma', 'mightn', \"mightn't\", 'mustn', \"mustn't\", 'needn', \"needn't\", 'shan', \"shan't\", 'shouldn', \"shouldn't\", 'wasn', \"wasn't\", 'weren', \"weren't\", 'won', \"won't\", 'wouldn', \"wouldn't\"]\n"
          ]
        }
      ]
    },
    {
      "cell_type": "code",
      "source": [
        "remove_word=stopwords.words('english')\n",
        "remove_word.remove('on')\n",
        "print(remove_word)"
      ],
      "metadata": {
        "colab": {
          "base_uri": "https://localhost:8080/"
        },
        "id": "gjM9omacl_Rt",
        "outputId": "b4f52038-acb3-4457-f80a-806f86a60db6"
      },
      "execution_count": 50,
      "outputs": [
        {
          "output_type": "stream",
          "name": "stdout",
          "text": [
            "['i', 'me', 'my', 'myself', 'we', 'our', 'ours', 'ourselves', 'you', \"you're\", \"you've\", \"you'll\", \"you'd\", 'your', 'yours', 'yourself', 'yourselves', 'he', 'him', 'his', 'himself', 'she', \"she's\", 'her', 'hers', 'herself', 'it', \"it's\", 'its', 'itself', 'they', 'them', 'their', 'theirs', 'themselves', 'what', 'which', 'who', 'whom', 'this', 'that', \"that'll\", 'these', 'those', 'am', 'is', 'are', 'was', 'were', 'be', 'been', 'being', 'have', 'has', 'had', 'having', 'do', 'does', 'did', 'doing', 'a', 'an', 'the', 'and', 'but', 'if', 'or', 'because', 'as', 'until', 'while', 'of', 'at', 'by', 'for', 'with', 'about', 'against', 'between', 'into', 'through', 'during', 'before', 'after', 'above', 'below', 'to', 'from', 'up', 'down', 'in', 'out', 'off', 'over', 'under', 'again', 'further', 'then', 'once', 'here', 'there', 'when', 'where', 'why', 'how', 'all', 'any', 'both', 'each', 'few', 'more', 'most', 'other', 'some', 'such', 'no', 'nor', 'not', 'only', 'own', 'same', 'so', 'than', 'too', 'very', 's', 't', 'can', 'will', 'just', 'don', \"don't\", 'should', \"should've\", 'now', 'd', 'll', 'm', 'o', 're', 've', 'y', 'ain', 'aren', \"aren't\", 'couldn', \"couldn't\", 'didn', \"didn't\", 'doesn', \"doesn't\", 'hadn', \"hadn't\", 'hasn', \"hasn't\", 'haven', \"haven't\", 'isn', \"isn't\", 'ma', 'mightn', \"mightn't\", 'mustn', \"mustn't\", 'needn', \"needn't\", 'shan', \"shan't\", 'shouldn', \"shouldn't\", 'wasn', \"wasn't\", 'weren', \"weren't\", 'won', \"won't\", 'wouldn', \"wouldn't\"]\n"
          ]
        }
      ]
    },
    {
      "cell_type": "code",
      "source": [
        "sample=\"Uddeshya is The King &, Kindest Person on this Galaxy\"\n",
        "words=word_tokenize(sample)\n",
        "print(words)"
      ],
      "metadata": {
        "colab": {
          "base_uri": "https://localhost:8080/"
        },
        "id": "1BYhWDr6l_UG",
        "outputId": "49abbce6-c368-4d9b-8363-4834730bc99b"
      },
      "execution_count": 48,
      "outputs": [
        {
          "output_type": "stream",
          "name": "stdout",
          "text": [
            "['Uddeshya', 'is', 'The', 'King', '&', ',', 'Kindest', 'Person', 'on', 'this', 'Galaxy']\n"
          ]
        }
      ]
    },
    {
      "cell_type": "code",
      "source": [
        "sample_words=[word for word in words if word not in remove_word ]\n",
        "print(sample_words)"
      ],
      "metadata": {
        "colab": {
          "base_uri": "https://localhost:8080/"
        },
        "id": "a69lLIsKhvG6",
        "outputId": "fd28fb65-7f97-4b0d-bdf9-c2d562730781"
      },
      "execution_count": 51,
      "outputs": [
        {
          "output_type": "stream",
          "name": "stdout",
          "text": [
            "['Uddeshya', 'The', 'King', '&', ',', 'Kindest', 'Person', 'on', 'Galaxy']\n"
          ]
        }
      ]
    },
    {
      "cell_type": "markdown",
      "source": [
        "Lemmatization"
      ],
      "metadata": {
        "id": "GnXmyrYxnS55"
      }
    },
    {
      "cell_type": "code",
      "source": [
        "nltk.download('wordnet')"
      ],
      "metadata": {
        "colab": {
          "base_uri": "https://localhost:8080/"
        },
        "id": "Vq3xFv5HhvKk",
        "outputId": "aca5d224-722a-4608-b2bb-dbc229fce8e9"
      },
      "execution_count": 52,
      "outputs": [
        {
          "output_type": "stream",
          "name": "stderr",
          "text": [
            "[nltk_data] Downloading package wordnet to /root/nltk_data...\n"
          ]
        },
        {
          "output_type": "execute_result",
          "data": {
            "text/plain": [
              "True"
            ]
          },
          "metadata": {},
          "execution_count": 52
        }
      ]
    },
    {
      "cell_type": "code",
      "source": [
        "from nltk.stem import WordNetLemmatizer"
      ],
      "metadata": {
        "id": "R_Y6m_qdhvMz"
      },
      "execution_count": 53,
      "outputs": []
    },
    {
      "cell_type": "code",
      "source": [],
      "metadata": {
        "id": "fpGMF7ALhvPJ"
      },
      "execution_count": null,
      "outputs": []
    },
    {
      "cell_type": "code",
      "source": [],
      "metadata": {
        "id": "N55HkBQKhvSm"
      },
      "execution_count": null,
      "outputs": []
    },
    {
      "cell_type": "code",
      "source": [],
      "metadata": {
        "id": "4JTmi-gfhvWx"
      },
      "execution_count": null,
      "outputs": []
    },
    {
      "cell_type": "code",
      "source": [],
      "metadata": {
        "id": "PoDrsJPnhvZI"
      },
      "execution_count": null,
      "outputs": []
    },
    {
      "cell_type": "code",
      "source": [],
      "metadata": {
        "id": "7VtlLm6ahvb2"
      },
      "execution_count": null,
      "outputs": []
    },
    {
      "cell_type": "code",
      "source": [],
      "metadata": {
        "id": "k0qe2aGWhvd4"
      },
      "execution_count": null,
      "outputs": []
    },
    {
      "cell_type": "code",
      "source": [],
      "metadata": {
        "id": "eS1eQZXBfdi9"
      },
      "execution_count": null,
      "outputs": []
    }
  ]
}